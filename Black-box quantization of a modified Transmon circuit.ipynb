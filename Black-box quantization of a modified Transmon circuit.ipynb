{
 "cells": [
  {
   "cell_type": "markdown",
   "metadata": {},
   "source": [
    "# Analyzing a Transmon circuit\n",
    "\n",
    "This notebook is a modified version of a homework that was handed in by me and another student at the Technical university of Delft. The goal is to analyze a transmon circuit using the bbq (black-box quantization) recipe - both mathematically and using python (especially QuCAT and QUTip).  \n",
    "\n",
    "All recipes and equations were derived in the lectures, our contribution is solving the homeworks and implementing the code. \n",
    "\n",
    "\n",
    "\n"
   ]
  },
  {
   "cell_type": "markdown",
   "metadata": {},
   "source": [
    "$$a)$$ | $$b)$$\n",
    "- | - \n",
    "![Image](images/circuit1.png) | ![alt](images/circuit2.png)\n",
    "\n"
   ]
  },
  {
   "cell_type": "markdown",
   "metadata": {},
   "source": [
    "# PART I: Theory\n",
    "\n",
    "Focus on circuit $a)$ and replace the josephson junction (JJ) with an equal inductance inductor and let's write the resulting admittance at the $L_j$ node: \n",
    "\n",
    "#### EE Basics:\n",
    "\n",
    "For this we will need some basic circuit theory rules: \n",
    "\n",
    "$$ Y_R = \\frac{1}{R}, \\quad Y_L = \\frac{1}{i\\omega L}, \\quad Y_C = i\\omega C $$\n",
    "\n",
    "\n",
    "\n",
    "$$ \\text{Series: } \\quad  \\frac{1}{Y_T} = \\frac{1}{Y_1} + \\frac{1}{Y_2}, \\quad \\text{Parallel: } Y_T = Y_1 + Y_2. $$\n",
    "\n",
    "\n",
    "#### QM Basics:\n",
    "Furthermore some basic rules from Quantum mechanics for \n",
    "\n",
    "creation operator: $a^{\\dagger }\\mid \\!n\\rangle ={\\sqrt {n+1}}\\mid \\!n+1\\rangle, \\quad $\n",
    "\n",
    "annihilation operator: $ a\\mid \\!n\\rangle ={\\sqrt {n}}\\ |n-1\\rangle, \\quad $ \n",
    "\n",
    "number operator:  $ \\hat{n}=a^\\dagger a|n\\rangle = n |n\\rangle .$\n",
    "\n",
    "\n",
    "\n",
    "\n",
    "### a) Finding the Admittance Y\n",
    "\n",
    "Applying all these rules we find $Y$ to be, \n",
    "\n",
    "$$ Y = -i \\frac{1 - \\omega^2 CL_s}{(1-\\omega^2 LC)\\omega L_j},  $$\n",
    "where $L_s = L + L_j.$\n",
    "\n",
    "\n",
    "### b) Finding the resonance fequency $\\omega_n$\n",
    "\n",
    "Using the fact that the resonance frequency is the frequency where $Y(\\omega_n) = 0$, and since we have already written our $Y$ in $a)$ in ration form we just need to solve \n",
    "\n",
    "\n",
    "\n",
    "\n",
    "\\begin{align*} \n",
    "1 - &\\omega^2 CL_s = 0 \\\\\n",
    "\\Leftrightarrow &\\omega_m = \\frac{1}{\\sqrt{L_s C}}\n",
    "\\end{align*}\n",
    "\n",
    "### c) Finding the effective capacitance $C_m$\n",
    "\n",
    "To find the effective capacitance we first need to evaluate the derivative of our admittance and evaluate it at $\\omega = \\omega_m$:\n",
    "$$ C_m = \\frac{1}{2}\\cdot \\mathrm{Im}[Y'(\\omega = \\omega_m)] = C \\left(\\frac{L_s}{L_j}\\right)^2$$\n",
    "\n",
    "\n",
    "### d) Hamiltonian with cosine term\n",
    "we write the Hamiltonian with the cosine term and the creation/an. terms\n",
    "\n",
    "$$ H = \\hbar \\omega_m a^\\dagger_m a_m + E_J\\left[ 1 - \\cos (\\varphi_{\\mathrm{ZPF}}(a_m + a_m^\\dagger))   -   \\frac{\\varphi^2_{\\mathrm{ZPF}}}{2}\\left(a_m + a^\\dagger_m\\right)^2  \\right]$$\n",
    "\n",
    "\n",
    "where we define $\\varphi_{\\mathrm{ZPF}}= \\frac{1}{\\phi_0}\\sqrt{\\frac{\\hbar}{2\\omega_m C_m}}$\n",
    "\n",
    "\n",
    "\n",
    "### e) Hamiltonian with expanded cosine term\n",
    "Next, let's expand the cosine term to fourth order and ignoring all diagonal terms \n",
    "\n",
    "$$ H = \\omega_m  $$ \n",
    "\n"
   ]
  },
  {
   "cell_type": "markdown",
   "metadata": {},
   "source": [
    "# PART II: Python - QuCAT"
   ]
  },
  {
   "cell_type": "code",
   "execution_count": 7,
   "metadata": {},
   "outputs": [],
   "source": [
    "import scipy.constants\n",
    "import numpy as np\n",
    "import matplotlib.pyplot as plt\n",
    "from qucat import Network,GUI,L,J,C,R\n",
    "import pandas as pd"
   ]
  },
  {
   "cell_type": "markdown",
   "metadata": {},
   "source": [
    "### a) Drawing the circuit\n",
    "\n",
    "Next step is to draw the diagram via the GUI or programmatically. It will be stored in the folder circuits "
   ]
  },
  {
   "cell_type": "code",
   "execution_count": 17,
   "metadata": {},
   "outputs": [
    {
     "data": {
      "image/png": "[encoded data removed]",
      "text/plain": [
       "<Figure size 235.92x177.479 with 1 Axes>"
      ]
     },
     "metadata": {
      "needs_background": "light"
     },
     "output_type": "display_data"
    },
    {
     "name": "stdout",
     "output_type": "stream",
     "text": [
      "J 0 1 Lj=10 nH\n",
      "C 0 2 C=300 fF\n",
      "L 1 2 L=10 nH\n",
      "\n",
      "\n"
     ]
    },
    {
     "data": {
      "text/html": [
       "<div>\n",
       "<style scoped>\n",
       "    .dataframe tbody tr th:only-of-type {\n",
       "        vertical-align: middle;\n",
       "    }\n",
       "\n",
       "    .dataframe tbody tr th {\n",
       "        vertical-align: top;\n",
       "    }\n",
       "\n",
       "    .dataframe thead th {\n",
       "        text-align: right;\n",
       "    }\n",
       "</style>\n",
       "<table border=\"1\" class=\"dataframe\">\n",
       "  <thead>\n",
       "    <tr style=\"text-align: right;\">\n",
       "      <th></th>\n",
       "      <th>ω</th>\n",
       "      <th>Anharmonicity</th>\n",
       "    </tr>\n",
       "  </thead>\n",
       "  <tbody>\n",
       "    <tr>\n",
       "      <th>0</th>\n",
       "      <td>[2054681480.2049992]</td>\n",
       "      <td>[8070928.8862714665]</td>\n",
       "    </tr>\n",
       "  </tbody>\n",
       "</table>\n",
       "</div>"
      ],
      "text/plain": [
       "                      ω         Anharmonicity\n",
       "0  [2054681480.2049992]  [8070928.8862714665]"
      ]
     },
     "execution_count": 17,
     "metadata": {},
     "output_type": "execute_result"
    }
   ],
   "source": [
    "cir = GUI('circuits/basics.txt', # location of the circuit file\n",
    "edit=True, # open the GUI to edit the circuit\n",
    "plot=True, # plot the circuit after having edited it\n",
    "print_network=True # print the network\n",
    ")\n",
    "\n",
    "data = pd.DataFrame(data={'\\u03C9':[cir.eigenfrequencies()], 'Anharmonicity':[cir.anharmonicities()]})\n",
    "data"
   ]
  },
  {
   "cell_type": "markdown",
   "metadata": {},
   "source": [
    "### b) Calculating \n"
   ]
  },
  {
   "cell_type": "markdown",
   "metadata": {},
   "source": [
    "Let's look at the first $3 - \\mathrm{lvl's}$ of the qubit. For this we want to construct the hamiltonian from our circuit (using \"cir.hamiltonian\")  and then calculate the eigenenergies (using \".eigenenergies\"). We compare this to the values we obtained analytically "
   ]
  },
  {
   "cell_type": "code",
   "execution_count": 9,
   "metadata": {},
   "outputs": [
    {
     "name": "stdout",
     "output_type": "stream",
     "text": [
      "            E01           E12\n",
      "0  2.046546e+09  2.038360e+09\n"
     ]
    }
   ],
   "source": [
    "H = cir.hamiltonian() #Construct the Hamiltonian matrix\n",
    "e = H.eigenenergies() #calculate the Eigen energies of the hamiltonian (in Hz)\n",
    "de = [e[1]-e[0],e[2]-e[1]] #calculate the difference between the three energy levels (in Hz)\n",
    "data2 = pd.DataFrame(data={'E01':[de[0]],'E12':[de[1]]})\n",
    "print(data2)"
   ]
  },
  {
   "cell_type": "code",
   "execution_count": null,
   "metadata": {},
   "outputs": [],
   "source": []
  },
  {
   "cell_type": "markdown",
   "metadata": {},
   "source": [
    "### seond circuit\n"
   ]
  },
  {
   "cell_type": "code",
   "execution_count": 21,
   "metadata": {},
   "outputs": [
    {
     "data": {
      "image/png": "[encoded data removed]",
      "text/plain": [
       "<Figure size 379.92x177.48 with 1 Axes>"
      ]
     },
     "metadata": {
      "needs_background": "light"
     },
     "output_type": "display_data"
    },
    {
     "name": "stdout",
     "output_type": "stream",
     "text": [
      "J 0 2 Lj=10 nH\n",
      "C 0 1 C=300 fF\n",
      "L 1 2 L=10 nH\n",
      "C 1 3 Cc=1 fF\n",
      "R 0 3 50 Ohm\n",
      "\n",
      "\n",
      "loss rate =[4391.64241164]\n"
     ]
    }
   ],
   "source": [
    "cir2 = GUI('circuits/basics2.txt', # location of the circuit file\n",
    "edit=True, # open the GUI to edit the circuit\n",
    "plot=True, # plot the circuit after having edited it\n",
    "print_network=True # print the network\n",
    ")\n",
    "loss = cir2.loss_rates()\n",
    "print('loss rate ='+str(loss))"
   ]
  }
 ],
 "metadata": {
  "kernelspec": {
   "display_name": "personal_project",
   "language": "python",
   "name": "personal_project"
  },
  "language_info": {
   "codemirror_mode": {
    "name": "ipython",
    "version": 3
   },
   "file_extension": ".py",
   "mimetype": "text/x-python",
   "name": "python",
   "nbconvert_exporter": "python",
   "pygments_lexer": "ipython3",
   "version": "3.9.7"
  }
 },
 "nbformat": 4,
 "nbformat_minor": 4
}
